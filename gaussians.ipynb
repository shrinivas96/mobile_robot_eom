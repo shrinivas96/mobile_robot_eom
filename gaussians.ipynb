{
 "cells": [
  {
   "cell_type": "code",
   "execution_count": 1,
   "metadata": {},
   "outputs": [],
   "source": [
    "# import numpy as np\n",
    "import sympy as sp\n",
    "import math"
   ]
  },
  {
   "cell_type": "code",
   "execution_count": 2,
   "metadata": {},
   "outputs": [],
   "source": [
    "z_tk = sp.Symbol('z_tk')"
   ]
  },
  {
   "cell_type": "code",
   "execution_count": 15,
   "metadata": {},
   "outputs": [
    {
     "data": {
      "text/latex": [
       "$\\displaystyle 1.0$"
      ],
      "text/plain": [
       "1.00000000000000"
      ]
     },
     "execution_count": 15,
     "metadata": {},
     "output_type": "execute_result"
    }
   ],
   "source": [
    "z_exp = 5.0\n",
    "z_var = 0.1\n",
    "z_max = 10\n",
    "pi = 3.14159265358\n",
    "p_ztk = sp.exp(-0.5 * (z_tk - z_exp)**2 / z_var) / sp.sqrt(2 * sp.pi * z_var)\n",
    "# sp.integrate(p_ztk, (z_tk, -sp.oo, sp.oo))\n",
    "sp.integrate(p_ztk, (z_tk, 0, z_max))"
   ]
  },
  {
   "cell_type": "code",
   "execution_count": 18,
   "metadata": {},
   "outputs": [
    {
     "data": {
      "text/latex": [
       "$\\displaystyle 0.00252312831680681$"
      ],
      "text/plain": [
       "0.00252312831680681"
      ]
     },
     "execution_count": 18,
     "metadata": {},
     "output_type": "execute_result"
    }
   ],
   "source": [
    "sp.integrate(p_ztk, (z_tk, 4.999, 5.001))"
   ]
  },
  {
   "cell_type": "code",
   "execution_count": 13,
   "metadata": {},
   "outputs": [
    {
     "data": {
      "text/latex": [
       "$\\displaystyle 1.26156626101205$"
      ],
      "text/plain": [
       "1.26156626101205"
      ]
     },
     "execution_count": 13,
     "metadata": {},
     "output_type": "execute_result"
    }
   ],
   "source": [
    "p_ztk.subs([(z_tk, 5.0)])"
   ]
  },
  {
   "cell_type": "code",
   "execution_count": 4,
   "metadata": {},
   "outputs": [
    {
     "data": {
      "text/latex": [
       "$\\displaystyle 0.447213595499958 \\sqrt{\\pi}$"
      ],
      "text/plain": [
       "0.447213595499958*sqrt(pi)"
      ]
     },
     "execution_count": 4,
     "metadata": {},
     "output_type": "execute_result"
    }
   ],
   "source": [
    "fx = sp.exp(-0.5 * (z_tk - z_exp)**2 / z_var)\n",
    "sp.integrate(fx, (z_tk, -sp.oo, sp.oo))"
   ]
  },
  {
   "cell_type": "code",
   "execution_count": 6,
   "metadata": {},
   "outputs": [
    {
     "data": {
      "text/plain": [
       "0.4472135954999579"
      ]
     },
     "execution_count": 6,
     "metadata": {},
     "output_type": "execute_result"
    }
   ],
   "source": [
    "1 / math.sqrt(0.5/z_var)"
   ]
  }
 ],
 "metadata": {
  "kernelspec": {
   "display_name": "symp",
   "language": "python",
   "name": "python3"
  },
  "language_info": {
   "codemirror_mode": {
    "name": "ipython",
    "version": 3
   },
   "file_extension": ".py",
   "mimetype": "text/x-python",
   "name": "python",
   "nbconvert_exporter": "python",
   "pygments_lexer": "ipython3",
   "version": "3.8.10"
  },
  "orig_nbformat": 4
 },
 "nbformat": 4,
 "nbformat_minor": 2
}
