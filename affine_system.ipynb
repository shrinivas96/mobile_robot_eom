{
 "cells": [
  {
   "cell_type": "code",
   "execution_count": 7,
   "metadata": {},
   "outputs": [],
   "source": [
    "import sympy as sp\n",
    "import numpy as np\n",
    "from sympy.core.assumptions import assumptions\n",
    "sp.init_printing(use_unicode=True)"
   ]
  },
  {
   "cell_type": "code",
   "execution_count": 3,
   "metadata": {},
   "outputs": [],
   "source": [
    "## initial variables and symbols\n",
    "\n",
    "# time t\n",
    "t = sp.Symbol('t')\n",
    "steerControlInput = sp.Symbol('u_s')\n",
    "torqueControlInput = sp.Symbol('tau_d')\n",
    "\n",
    "# vehicle COG point G\n",
    "xG = sp.Function('x_G')(t)\n",
    "yG = sp.Function('y_G')(t)\n",
    "\n",
    "# orientation of car and steering angle\n",
    "phi = sp.Function('phi')(t)\n",
    "psi = sp.Function('psi')(t)\n",
    "\n",
    "xVehicle = sp.Function('x_g')(t)\n",
    "dxVehicle = xVehicle.diff(t)\n",
    "\n",
    "yVehicle = sp.Function('y_g')(t)\n",
    "dyVehicle = yVehicle.diff(t)\n",
    "\n",
    "lengthRearToMid, lengthFrontToMid, lengthTotal, T, m, r, K, J = sp.symbols('b d D T m r K J', nonnegative=True)\n",
    "\n",
    "drivingForceRear = torqueControlInput / r\n",
    "\n",
    "states = sp.Matrix([xG, yG, phi, dxVehicle, psi])\n",
    "controls = sp.Matrix([torqueControlInput, steerControlInput])\n",
    "\n",
    "evalAtZero = [(xG, 0), (yG, 0), (phi, 0), \n",
    "              (dxVehicle, 0), (psi, 0), \n",
    "              (torqueControlInput, 0), \n",
    "              (steerControlInput, 0)]"
   ]
  },
  {
   "cell_type": "code",
   "execution_count": 4,
   "metadata": {},
   "outputs": [],
   "source": [
    "bTanPsiOverD = lengthRearToMid * sp.tan(psi) / lengthTotal\n",
    "mbSqPlusJ = (m * lengthRearToMid**2) + J\n",
    "accVehicleFCommonDenominator = sp.cos(psi)**2 * ((m*lengthTotal**2) + (mbSqPlusJ * sp.tan(psi)**2))\n",
    "\n",
    "steerDriftTerm = - (1/T)*psi\n",
    "steerControlTerm = (K / T)*steerControlInput\n",
    "\n",
    "\n",
    "dxG = (sp.cos(phi) - (bTanPsiOverD * sp.sin(phi))) * dxVehicle\n",
    "dyG = (sp.sin(phi) + (bTanPsiOverD * sp.cos(phi))) * dxVehicle\n",
    "dphi = dxVehicle * sp.tan(psi) / lengthTotal\n",
    "dpsi = steerControlTerm + steerDriftTerm\n",
    "\n",
    "accVehicleFDriftTerm = (-1) * mbSqPlusJ * sp.tan(psi) * dpsi * dxVehicle / accVehicleFCommonDenominator\n",
    "accVehicleFControlTerm = lengthTotal**2 * sp.cos(psi)**2 * drivingForceRear / accVehicleFCommonDenominator\n",
    "ddxVehicle = accVehicleFDriftTerm + accVehicleFControlTerm"
   ]
  },
  {
   "cell_type": "code",
   "execution_count": 6,
   "metadata": {},
   "outputs": [],
   "source": [
    "nonLinearVector = sp.Matrix([dxG, dyG, dphi, ddxVehicle, dpsi])\n",
    "\n",
    "# \\dot x = g_0(x) + g_1(x) tau_d + g_2(x) u_s\n",
    "driftVector = sp.Matrix([dxG, dyG, dphi, accVehicleFDriftTerm, steerDriftTerm])\n",
    "inputVectorTorque = sp.Matrix([0, 0, 0, accVehicleFControlTerm, 0])\n",
    "inputVectorSteer = sp.Matrix([0, 0, 0, 0, steerControlTerm])"
   ]
  },
  {
   "cell_type": "code",
   "execution_count": 66,
   "metadata": {},
   "outputs": [
    {
     "data": {
      "text/latex": [
       "$\\displaystyle \\left[\\begin{matrix}0\\\\0\\\\0\\\\0\\\\0\\end{matrix}\\right]$"
      ],
      "text/plain": [
       "⎡0⎤\n",
       "⎢ ⎥\n",
       "⎢0⎥\n",
       "⎢ ⎥\n",
       "⎢0⎥\n",
       "⎢ ⎥\n",
       "⎢0⎥\n",
       "⎢ ⎥\n",
       "⎣0⎦"
      ]
     },
     "metadata": {},
     "output_type": "display_data"
    }
   ],
   "source": [
    "# this is a point in the state-space where the functions all go to 0\n",
    "currentState = [(xG, 5), (yG, 3), (phi, np.pi/2), (dxVehicle, 0), (psi, np.pi/10), (torqueControlInput, 0), (steerControlInput, np.pi/10)]\n",
    "\n",
    "symbolsEval = [(lengthTotal, 0.3), (lengthRearToMid, 0.3/2), (K, 1), (T, 0.01), (m, 0.5), (r, 0.05), (J, 0.03)]\n",
    "nonLinearEvalAtPoint = nonLinearVector.subs(currentState)\n",
    "\n",
    "display(nonLinearEvalAtPoint.subs(symbolsEval))"
   ]
  },
  {
   "cell_type": "code",
   "execution_count": 67,
   "metadata": {},
   "outputs": [
    {
     "data": {
      "text/latex": [
       "$\\displaystyle \\left[\\begin{matrix}0 & 0 & \\left(- \\sin{\\left(\\phi{\\left(t \\right)} \\right)} - \\frac{b \\cos{\\left(\\phi{\\left(t \\right)} \\right)} \\tan{\\left(\\psi{\\left(t \\right)} \\right)}}{D}\\right) \\frac{d}{d t} x_{g}{\\left(t \\right)} & \\cos{\\left(\\phi{\\left(t \\right)} \\right)} - \\frac{b \\sin{\\left(\\phi{\\left(t \\right)} \\right)} \\tan{\\left(\\psi{\\left(t \\right)} \\right)}}{D} & - \\frac{b \\left(\\tan^{2}{\\left(\\psi{\\left(t \\right)} \\right)} + 1\\right) \\sin{\\left(\\phi{\\left(t \\right)} \\right)} \\frac{d}{d t} x_{g}{\\left(t \\right)}}{D}\\\\0 & 0 & \\left(\\cos{\\left(\\phi{\\left(t \\right)} \\right)} - \\frac{b \\sin{\\left(\\phi{\\left(t \\right)} \\right)} \\tan{\\left(\\psi{\\left(t \\right)} \\right)}}{D}\\right) \\frac{d}{d t} x_{g}{\\left(t \\right)} & \\sin{\\left(\\phi{\\left(t \\right)} \\right)} + \\frac{b \\cos{\\left(\\phi{\\left(t \\right)} \\right)} \\tan{\\left(\\psi{\\left(t \\right)} \\right)}}{D} & \\frac{b \\left(\\tan^{2}{\\left(\\psi{\\left(t \\right)} \\right)} + 1\\right) \\cos{\\left(\\phi{\\left(t \\right)} \\right)} \\frac{d}{d t} x_{g}{\\left(t \\right)}}{D}\\\\0 & 0 & 0 & \\frac{\\tan{\\left(\\psi{\\left(t \\right)} \\right)}}{D} & \\frac{\\left(\\tan^{2}{\\left(\\psi{\\left(t \\right)} \\right)} + 1\\right) \\frac{d}{d t} x_{g}{\\left(t \\right)}}{D}\\\\0 & 0 & 0 & \\frac{\\left(- J - b^{2} m\\right) \\left(\\frac{K u_{s}}{T} - \\frac{\\psi{\\left(t \\right)}}{T}\\right) \\tan{\\left(\\psi{\\left(t \\right)} \\right)}}{\\left(D^{2} m + \\left(J + b^{2} m\\right) \\tan^{2}{\\left(\\psi{\\left(t \\right)} \\right)}\\right) \\cos^{2}{\\left(\\psi{\\left(t \\right)} \\right)}} & - \\frac{\\left(- J - b^{2} m\\right) \\left(J + b^{2} m\\right) \\left(\\frac{K u_{s}}{T} - \\frac{\\psi{\\left(t \\right)}}{T}\\right) \\left(2 \\tan^{2}{\\left(\\psi{\\left(t \\right)} \\right)} + 2\\right) \\tan^{2}{\\left(\\psi{\\left(t \\right)} \\right)} \\frac{d}{d t} x_{g}{\\left(t \\right)}}{\\left(D^{2} m + \\left(J + b^{2} m\\right) \\tan^{2}{\\left(\\psi{\\left(t \\right)} \\right)}\\right)^{2} \\cos^{2}{\\left(\\psi{\\left(t \\right)} \\right)}} + \\frac{\\left(- J - b^{2} m\\right) \\left(\\frac{K u_{s}}{T} - \\frac{\\psi{\\left(t \\right)}}{T}\\right) \\left(\\tan^{2}{\\left(\\psi{\\left(t \\right)} \\right)} + 1\\right) \\frac{d}{d t} x_{g}{\\left(t \\right)}}{\\left(D^{2} m + \\left(J + b^{2} m\\right) \\tan^{2}{\\left(\\psi{\\left(t \\right)} \\right)}\\right) \\cos^{2}{\\left(\\psi{\\left(t \\right)} \\right)}} + \\frac{2 \\left(- J - b^{2} m\\right) \\left(\\frac{K u_{s}}{T} - \\frac{\\psi{\\left(t \\right)}}{T}\\right) \\sin{\\left(\\psi{\\left(t \\right)} \\right)} \\tan{\\left(\\psi{\\left(t \\right)} \\right)} \\frac{d}{d t} x_{g}{\\left(t \\right)}}{\\left(D^{2} m + \\left(J + b^{2} m\\right) \\tan^{2}{\\left(\\psi{\\left(t \\right)} \\right)}\\right) \\cos^{3}{\\left(\\psi{\\left(t \\right)} \\right)}} - \\frac{\\left(- J - b^{2} m\\right) \\tan{\\left(\\psi{\\left(t \\right)} \\right)} \\frac{d}{d t} x_{g}{\\left(t \\right)}}{T \\left(D^{2} m + \\left(J + b^{2} m\\right) \\tan^{2}{\\left(\\psi{\\left(t \\right)} \\right)}\\right) \\cos^{2}{\\left(\\psi{\\left(t \\right)} \\right)}}\\\\0 & 0 & 0 & 0 & - \\frac{1}{T}\\end{matrix}\\right]$"
      ],
      "text/plain": [
       "⎡                                                                             \n",
       "⎢                                                                             \n",
       "⎢      ⎛             b⋅cos(φ(t))⋅tan(ψ(t))⎞ d                           b⋅sin(\n",
       "⎢0  0  ⎜-sin(φ(t)) - ─────────────────────⎟⋅──(x_g(t))      cos(φ(t)) - ──────\n",
       "⎢      ⎝                       D          ⎠ dt                                \n",
       "⎢                                                                             \n",
       "⎢                                                                             \n",
       "⎢                                                                             \n",
       "⎢      ⎛            b⋅sin(φ(t))⋅tan(ψ(t))⎞ d                            b⋅cos(\n",
       "⎢0  0  ⎜cos(φ(t)) - ─────────────────────⎟⋅──(x_g(t))       sin(φ(t)) + ──────\n",
       "⎢      ⎝                      D          ⎠ dt                                 \n",
       "⎢                                                                             \n",
       "⎢                                                                             \n",
       "⎢                                                                             \n",
       "⎢                                                                       tan(ψ(\n",
       "⎢0  0                         0                                         ──────\n",
       "⎢                                                                           D \n",
       "⎢                                                                             \n",
       "⎢                                                          ⎛      2  ⎞ ⎛K⋅uₛ  \n",
       "⎢                                                          ⎝-J - b ⋅m⎠⋅⎜──── -\n",
       "⎢                                                                      ⎝ T    \n",
       "⎢0  0                         0                         ──────────────────────\n",
       "⎢                                                       ⎛ 2     ⎛     2  ⎞    \n",
       "⎢                                                       ⎝D ⋅m + ⎝J + b ⋅m⎠⋅tan\n",
       "⎢                                                                             \n",
       "⎢                                                                             \n",
       "⎢                                                                             \n",
       "⎢0  0                         0                                             0 \n",
       "⎣                                                                             \n",
       "\n",
       "                                                                              \n",
       "                                                                              \n",
       "φ(t))⋅tan(ψ(t))                                                               \n",
       "───────────────                                                               \n",
       "    D                                                                         \n",
       "                                                                              \n",
       "                                                                              \n",
       "                                                                              \n",
       "φ(t))⋅tan(ψ(t))                                                               \n",
       "───────────────                                                               \n",
       "    D                                                                         \n",
       "                                                                              \n",
       "                                                                              \n",
       "                                                                              \n",
       "t))                                                                           \n",
       "───                                                                           \n",
       "                                                                              \n",
       "                                                                              \n",
       " ψ(t)⎞                 ⎛      2  ⎞ ⎛     2  ⎞ ⎛K⋅uₛ   ψ(t)⎞ ⎛     2          ⎞\n",
       " ────⎟⋅tan(ψ(t))       ⎝-J - b ⋅m⎠⋅⎝J + b ⋅m⎠⋅⎜──── - ────⎟⋅⎝2⋅tan (ψ(t)) + 2⎠\n",
       "  T  ⎠                                        ⎝ T      T  ⎠                   \n",
       "───────────────────  - ───────────────────────────────────────────────────────\n",
       "2      ⎞    2                                                          2      \n",
       " (ψ(t))⎠⋅cos (ψ(t))                      ⎛ 2     ⎛     2  ⎞    2      ⎞     2 \n",
       "                                         ⎝D ⋅m + ⎝J + b ⋅m⎠⋅tan (ψ(t))⎠ ⋅cos (\n",
       "                                                                              \n",
       "                                                                              \n",
       "                                                                              \n",
       "                                                                              \n",
       "\n",
       "                                              ⎛   2          ⎞           d    \n",
       "                                           -b⋅⎝tan (ψ(t)) + 1⎠⋅sin(φ(t))⋅──(x_\n",
       "                                                                         dt   \n",
       "                                           ───────────────────────────────────\n",
       "                                                               D              \n",
       "                                                                              \n",
       "                                              ⎛   2          ⎞           d    \n",
       "                                            b⋅⎝tan (ψ(t)) + 1⎠⋅cos(φ(t))⋅──(x_\n",
       "                                                                         dt   \n",
       "                                            ──────────────────────────────────\n",
       "                                                               D              \n",
       "                                                                              \n",
       "                                                  ⎛   2          ⎞ d          \n",
       "                                                  ⎝tan (ψ(t)) + 1⎠⋅──(x_g(t)) \n",
       "                                                                   dt         \n",
       "                                                  ─────────────────────────── \n",
       "                                                               D              \n",
       "                                                                              \n",
       "    2       d            ⎛      2  ⎞ ⎛K⋅uₛ   ψ(t)⎞ ⎛   2          ⎞ d         \n",
       "⋅tan (ψ(t))⋅──(x_g(t))   ⎝-J - b ⋅m⎠⋅⎜──── - ────⎟⋅⎝tan (ψ(t)) + 1⎠⋅──(x_g(t))\n",
       "            dt                       ⎝ T      T  ⎠                  dt        \n",
       "────────────────────── + ─────────────────────────────────────────────────────\n",
       "                               ⎛ 2     ⎛     2  ⎞    2      ⎞    2            \n",
       "                               ⎝D ⋅m + ⎝J + b ⋅m⎠⋅tan (ψ(t))⎠⋅cos (ψ(t))      \n",
       "ψ(t))                                                                         \n",
       "                                                                              \n",
       "                                                              -1              \n",
       "                                                              ───             \n",
       "                                                               T              \n",
       "\n",
       "                                                                              \n",
       "g(t))                                                                         \n",
       "                                                                              \n",
       "──────                                                                        \n",
       "                                                                              \n",
       "                                                                              \n",
       "                                                                              \n",
       "g(t))                                                                         \n",
       "                                                                              \n",
       "─────                                                                         \n",
       "                                                                              \n",
       "                                                                              \n",
       "                                                                              \n",
       "                                                                              \n",
       "                                                                              \n",
       "                                                                              \n",
       "                                                                              \n",
       "                                                                              \n",
       "     ⎛      2  ⎞ ⎛K⋅uₛ   ψ(t)⎞                     d                  ⎛      2\n",
       "   2⋅⎝-J - b ⋅m⎠⋅⎜──── - ────⎟⋅sin(ψ(t))⋅tan(ψ(t))⋅──(x_g(t))         ⎝-J - b \n",
       "                 ⎝ T      T  ⎠                     dt                         \n",
       " + ────────────────────────────────────────────────────────── - ──────────────\n",
       "           ⎛ 2     ⎛     2  ⎞    2      ⎞    3                    ⎛ 2     ⎛   \n",
       "           ⎝D ⋅m + ⎝J + b ⋅m⎠⋅tan (ψ(t))⎠⋅cos (ψ(t))            T⋅⎝D ⋅m + ⎝J +\n",
       "                                                                              \n",
       "                                                                              \n",
       "                                                                              \n",
       "                                                                              \n",
       "                                                                              \n",
       "\n",
       "                             ⎤\n",
       "                             ⎥\n",
       "                             ⎥\n",
       "                             ⎥\n",
       "                             ⎥\n",
       "                             ⎥\n",
       "                             ⎥\n",
       "                             ⎥\n",
       "                             ⎥\n",
       "                             ⎥\n",
       "                             ⎥\n",
       "                             ⎥\n",
       "                             ⎥\n",
       "                             ⎥\n",
       "                             ⎥\n",
       "                             ⎥\n",
       "                             ⎥\n",
       "                             ⎥\n",
       "  ⎞           d              ⎥\n",
       "⋅m⎠⋅tan(ψ(t))⋅──(x_g(t))     ⎥\n",
       "              dt             ⎥\n",
       "─────────────────────────────⎥\n",
       "  2  ⎞    2      ⎞    2      ⎥\n",
       " b ⋅m⎠⋅tan (ψ(t))⎠⋅cos (ψ(t))⎥\n",
       "                             ⎥\n",
       "                             ⎥\n",
       "                             ⎥\n",
       "                             ⎥\n",
       "                             ⎦"
      ]
     },
     "metadata": {},
     "output_type": "display_data"
    }
   ],
   "source": [
    "driftPartDeriv = driftVector.jacobian(states)\n",
    "display(driftPartDeriv)"
   ]
  },
  {
   "cell_type": "code",
   "execution_count": 70,
   "metadata": {},
   "outputs": [
    {
     "data": {
      "text/latex": [
       "$\\displaystyle \\left[\\begin{matrix}0 & 0 & 0 & -0.162459848116453 & 0\\\\0 & 0 & 0 & 1.0 & 0\\\\0 & 0 & 0 & 1.08306565410969 & 0\\\\0 & 0 & 0 & 0 & 0\\\\0 & 0 & 0 & 0 & -100.0\\end{matrix}\\right]$"
      ],
      "text/plain": [
       "⎡0  0  0  -0.162459848116453    0   ⎤\n",
       "⎢                                   ⎥\n",
       "⎢0  0  0         1.0            0   ⎥\n",
       "⎢                                   ⎥\n",
       "⎢0  0  0   1.08306565410969     0   ⎥\n",
       "⎢                                   ⎥\n",
       "⎢0  0  0          0             0   ⎥\n",
       "⎢                                   ⎥\n",
       "⎣0  0  0          0           -100.0⎦"
      ]
     },
     "metadata": {},
     "output_type": "display_data"
    }
   ],
   "source": [
    "symbolsEval = [(lengthTotal, 0.3), (lengthRearToMid, 0.3/2), (K, 1), (T, 0.01), (m, 0.5), (r, 0.05), (J, 0.03)]\n",
    "\n",
    "stateTransition = driftPartDeriv.subs(currentState)\n",
    "display(stateTransition.subs(symbolsEval))"
   ]
  },
  {
   "cell_type": "code",
   "execution_count": 71,
   "metadata": {},
   "outputs": [
    {
     "data": {
      "text/latex": [
       "$\\displaystyle \\left[\\begin{matrix}0\\\\0\\\\0\\\\\\frac{D^{2}}{r \\left(D^{2} m + \\left(J + b^{2} m\\right) \\tan^{2}{\\left(\\psi{\\left(t \\right)} \\right)}\\right)}\\\\0\\end{matrix}\\right]$"
      ],
      "text/plain": [
       "⎡               0                ⎤\n",
       "⎢                                ⎥\n",
       "⎢               0                ⎥\n",
       "⎢                                ⎥\n",
       "⎢               0                ⎥\n",
       "⎢                                ⎥\n",
       "⎢                2               ⎥\n",
       "⎢               D                ⎥\n",
       "⎢────────────────────────────────⎥\n",
       "⎢  ⎛ 2     ⎛     2  ⎞    2      ⎞⎥\n",
       "⎢r⋅⎝D ⋅m + ⎝J + b ⋅m⎠⋅tan (ψ(t))⎠⎥\n",
       "⎢                                ⎥\n",
       "⎣               0                ⎦"
      ]
     },
     "metadata": {},
     "output_type": "display_data"
    },
    {
     "data": {
      "text/latex": [
       "$\\displaystyle \\left[\\begin{matrix}0\\\\0\\\\0\\\\\\frac{D^{2}}{r \\left(D^{2} m + 0.105572809000084 J + 0.105572809000084 b^{2} m\\right)}\\\\0\\end{matrix}\\right]$"
      ],
      "text/plain": [
       "⎡                           0                           ⎤\n",
       "⎢                                                       ⎥\n",
       "⎢                           0                           ⎥\n",
       "⎢                                                       ⎥\n",
       "⎢                           0                           ⎥\n",
       "⎢                                                       ⎥\n",
       "⎢                            2                          ⎥\n",
       "⎢                           D                           ⎥\n",
       "⎢───────────────────────────────────────────────────────⎥\n",
       "⎢  ⎛ 2                                              2  ⎞⎥\n",
       "⎢r⋅⎝D ⋅m + 0.105572809000084⋅J + 0.105572809000084⋅b ⋅m⎠⎥\n",
       "⎢                                                       ⎥\n",
       "⎣                           0                           ⎦"
      ]
     },
     "metadata": {},
     "output_type": "display_data"
    }
   ],
   "source": [
    "torquePartDeriv = inputVectorTorque.jacobian([controls[0]])\n",
    "controlMatrixTorque = torquePartDeriv.subs(currentState)\n",
    "display(torquePartDeriv, controlMatrixTorque)"
   ]
  },
  {
   "cell_type": "code",
   "execution_count": 21,
   "metadata": {},
   "outputs": [
    {
     "data": {
      "text/latex": [
       "$\\displaystyle \\left[\\begin{matrix}0\\\\0\\\\0\\\\0\\\\\\frac{K}{T}\\end{matrix}\\right]$"
      ],
      "text/plain": [
       "⎡0⎤\n",
       "⎢ ⎥\n",
       "⎢0⎥\n",
       "⎢ ⎥\n",
       "⎢0⎥\n",
       "⎢ ⎥\n",
       "⎢0⎥\n",
       "⎢ ⎥\n",
       "⎢K⎥\n",
       "⎢─⎥\n",
       "⎣T⎦"
      ]
     },
     "metadata": {},
     "output_type": "display_data"
    },
    {
     "data": {
      "text/latex": [
       "$\\displaystyle \\left[\\begin{matrix}0\\\\0\\\\0\\\\0\\\\\\frac{K}{T}\\end{matrix}\\right]$"
      ],
      "text/plain": [
       "⎡0⎤\n",
       "⎢ ⎥\n",
       "⎢0⎥\n",
       "⎢ ⎥\n",
       "⎢0⎥\n",
       "⎢ ⎥\n",
       "⎢0⎥\n",
       "⎢ ⎥\n",
       "⎢K⎥\n",
       "⎢─⎥\n",
       "⎣T⎦"
      ]
     },
     "metadata": {},
     "output_type": "display_data"
    },
    {
     "data": {
      "text/latex": [
       "$\\displaystyle \\left[\\begin{matrix}0\\\\0\\\\0\\\\0\\\\\\frac{K}{T}\\end{matrix}\\right]$"
      ],
      "text/plain": [
       "⎡0⎤\n",
       "⎢ ⎥\n",
       "⎢0⎥\n",
       "⎢ ⎥\n",
       "⎢0⎥\n",
       "⎢ ⎥\n",
       "⎢0⎥\n",
       "⎢ ⎥\n",
       "⎢K⎥\n",
       "⎢─⎥\n",
       "⎣T⎦"
      ]
     },
     "metadata": {},
     "output_type": "display_data"
    }
   ],
   "source": [
    "steerPartDeriv = inputVectorSteer.jacobian([controls[1]])\n",
    "controlMatrixSteer = steerPartDeriv.subs(evalAtZero)\n",
    "display(steerPartDeriv, controlMatrixSteer)"
   ]
  },
  {
   "cell_type": "code",
   "execution_count": 18,
   "metadata": {},
   "outputs": [
    {
     "data": {
      "text/latex": [
       "$\\displaystyle \\left[\\begin{matrix}0 & 0\\\\0 & 0\\\\0 & 0\\\\\\frac{1}{m r} & 0\\\\0 & \\frac{K}{T}\\end{matrix}\\right]$"
      ],
      "text/plain": [
       "⎡ 0   0⎤\n",
       "⎢      ⎥\n",
       "⎢ 0   0⎥\n",
       "⎢      ⎥\n",
       "⎢ 0   0⎥\n",
       "⎢      ⎥\n",
       "⎢ 1    ⎥\n",
       "⎢───  0⎥\n",
       "⎢m⋅r   ⎥\n",
       "⎢      ⎥\n",
       "⎢     K⎥\n",
       "⎢ 0   ─⎥\n",
       "⎣     T⎦"
      ]
     },
     "execution_count": 18,
     "metadata": {},
     "output_type": "execute_result"
    }
   ],
   "source": [
    "controlMatrix = sp.Matrix([controlMatrixTorque.T, controlMatrixSteer.T]).T\n",
    "controlMatrix"
   ]
  },
  {
   "cell_type": "code",
   "execution_count": 44,
   "metadata": {},
   "outputs": [],
   "source": [
    "smallAngles = 15 * np.pi / 180\n",
    "x2 = np.linspace(-smallAngles, smallAngles, 50)\n",
    "y = 2*np.ones(x2.shape)\n",
    "x1 = np.arctan2(y, np.tan(x2))\n",
    "xgdot = np.random.rand(50)"
   ]
  },
  {
   "cell_type": "code",
   "execution_count": 46,
   "metadata": {},
   "outputs": [
    {
     "name": "stdout",
     "output_type": "stream",
     "text": [
      "Matrix([[2.08166817117217e-17], [0.253106155143397], [-0.224063364667935], [-0.018861367561015*(-J - 0.0225*m)/(T*(0.0717967697244908*J + 0.091615427318801*m))], [0.261799387799149/T]])\n",
      "Matrix([[5.55111512312578e-17], [0.811571212995423], [-0.688331652555160], [-0.0552672595698684*(-J - 0.0225*m)/(T*(0.0658069073528121*J + 0.0914806554154383*m))], [0.251113698501225/T]])\n",
      "Matrix([[-2.08166817117217e-17], [0.287901905744978], [-0.233535270098127], [-0.0178570255630148*(-J - 0.0225*m)/(T*(0.0601085207886637*J + 0.0913524417177449*m))], [0.2404280092033/T]])\n",
      "Matrix([[-5.20417042793042e-18], [0.0922882361637428], [-0.0714584145983052], [-0.00519448978080871*(-J - 0.0225*m)/(T*(0.0546959121073446*J + 0.0912306580224152*m))], [0.229742319905376/T]])\n",
      "Matrix([[-3.03576608295941e-18], [0.0307174937275378], [-0.0226554298388665], [-0.00156263940115477*(-J - 0.0225*m)/(T*(0.0495637103577508*J + 0.0911151834830494*m))], [0.219056630607452/T]])\n",
      "Matrix([[2.77555756156289e-17], [0.843527029716700], [-0.591222974942776], [-0.0386103872273603*(-J - 0.0225*m)/(T*(0.0447068599293709*J + 0.0910059043484108*m))], [0.208370941309527/T]])\n",
      "Matrix([[-2.42861286636753e-17], [0.297465464850942], [-0.197620452875258], [-0.0121902080422483*(-J - 0.0225*m)/(T*(0.0401206097053963*J + 0.0909027137183714*m))], [0.197685252011603/T]])\n",
      "Matrix([[4.16333634234434e-17], [0.935333279665540], [-0.587293030431919], [-0.0341265833520211*(-J - 0.0225*m)/(T*(0.0358005029610734*J + 0.0908055113166241*m))], [0.186999562713678/T]])\n",
      "Matrix([[-5.55111512312578e-17], [0.723939250153280], [-0.428236951955519], [-0.0233702385492134*(-J - 0.0225*m)/(T*(0.0317423679696445*J + 0.090714203279317*m))], [0.176313873415754/T]])\n",
      "Matrix([[-7.63278329429795e-17], [0.643105345071057], [-0.357092218903192], [-0.0182391512071765*(-J - 0.0225*m)/(T*(0.0279423092812224*J + 0.0906287019588275*m))], [0.165628184117829/T]])\n",
      "Matrix([[6.93889390390723e-18], [0.471718461688112], [-0.244853751381089], [-0.0116591457666535*(-J - 0.0225*m)/(T*(0.0243966996427473*J + 0.0905489257419618*m))], [0.154942494819905/T]])\n",
      "Matrix([[5.55111512312578e-17], [0.641436768344028], [-0.309780176174314], [-0.0136892731127414*(-J - 0.0225*m)/(T*(0.0211021725297933*J + 0.0904747988819204*m))], [0.14425680552198/T]])\n",
      "Matrix([[2.42861286636753e-17], [0.463789877026815], [-0.207266054528591], [-0.00845538708075638*(-J - 0.0225*m)/(T*(0.0180556152634483*J + 0.0904062513434276*m))], [0.133571116224056/T]])\n",
      "Matrix([[-3.46944695195361e-17], [0.772528162529538], [-0.317439325721592], [-0.0118811134854229*(-J - 0.0225*m)/(T*(0.0152541626878003*J + 0.0903432186604755*m))], [0.122885426926131/T]])\n",
      "Matrix([[-1.73472347597681e-17], [0.286399894197575], [-0.107394770584455], [-0.003660791365971*(-J - 0.0225*m)/(T*(0.012695191385734*J + 0.090285641806179*m))], [0.112199737628207/T]])\n",
      "Matrix([[-2.60208521396521e-17], [0.304149906644133], [-0.103139596144279], [-0.00317362775505633*(-J - 0.0225*m)/(T*(0.010376314412795*J + 0.0902334670742879*m))], [0.101514048330282/T]])\n",
      "Matrix([[8.32667268468867e-17], [0.932593309555960], [-0.282838958498095], [-0.00777087150663581*(-J - 0.0225*m)/(T*(0.00829537653082066*J + 0.0901866459719435*m))], [0.0908283590323579/T]])\n",
      "Matrix([[-6.24500451351651e-17], [0.983414547475278], [-0.263063434265087], [-0.00636557946760797*(-J - 0.0225*m)/(T*(0.00645044992488061*J + 0.0901451351233098*m))], [0.0801426697344335/T]])\n",
      "Matrix([[-2.77555756156289e-17], [0.233523041179566], [-0.0541203970446763], [-0.00113316974150084*(-J - 0.0225*m)/(T*(0.00483983038882796*J + 0.0901088961837486*m))], [0.069456980436509/T]])\n",
      "Matrix([[3.46944695195361e-18], [0.811469000028610], [-0.159084724233569], [-0.00281459499813056*(-J - 0.0225*m)/(T*(0.00346203396643992*J + 0.0900778957642449*m))], [0.0587712911385845/T]])\n",
      "Matrix([[-2.08166817117217e-17], [0.549528065211727], [-0.0881237373909673], [-0.00127418882599103*(-J - 0.0225*m)/(T*(0.00231579403673924*J + 0.0900521053658266*m))], [0.0480856018406601/T]])\n",
      "Matrix([[-1.04083408558608e-17], [0.984026969646624], [-0.122710831344612], [-0.00137873992633468*(-J - 0.0225*m)/(T*(0.00140005883363849*J + 0.0900315013237569*m))], [0.0373999125427356/T]])\n",
      "Matrix([[3.46944695195361e-17], [0.864036822953190], [-0.0769516824248799], [-0.000617151652353748*(-J - 0.0225*m)/(T*(0.000713989391550012*J + 0.0900160647613099*m))], [0.0267142232448112/T]])\n",
      "Matrix([[4.94396190653390e-17], [0.928715207526237], [-0.0496224667107831], [-0.000238673931060161*(-J - 0.0225*m)/(T*(0.000256957910061713*J + 0.0900057815529764*m))], [0.0160285339468867/T]])\n",
      "Matrix([[-3.25260651745651e-19], [0.157883162768502], [-0.00281183409337496], [-4.50708647988399e-6*(-J - 0.0225*m)/(T*(2.85465322007219e-5*J + 0.0900006422969745*m))], [0.00534284464896223/T]])\n",
      "Matrix([[-5.72458747072346e-17], [0.586036769531118], [0.0104370734639708], [-1.67295761900935e-5*(-J - 0.0225*m)/(T*(2.85465322007219e-5*J + 0.0900006422969745*m))], [-0.00534284464896223/T]])\n",
      "Matrix([[6.83047368665868e-18], [0.0995953266999478], [0.00532150840609348], [-2.55953686835972e-5*(-J - 0.0225*m)/(T*(0.000256957910061713*J + 0.0900057815529764*m))], [-0.0160285339468867/T]])\n",
      "Matrix([[2.68882138776405e-17], [0.498477184560104], [0.0443947028451999], [-0.000356045031808303*(-J - 0.0225*m)/(T*(0.000713989391550015*J + 0.0900160647613099*m))], [-0.0267142232448112/T]])\n",
      "Matrix([[3.90312782094782e-17], [0.387180414985434], [0.0482824476043341], [-0.000542486246110666*(-J - 0.0225*m)/(T*(0.0014000588336385*J + 0.0900315013237569*m))], [-0.0373999125427357/T]])\n",
      "Matrix([[-4.33680868994202e-17], [0.487593006830918], [0.0781916717412508], [-0.00113058022013116*(-J - 0.0225*m)/(T*(0.00231579403673925*J + 0.0900521053658266*m))], [-0.0480856018406601/T]])\n",
      "Matrix([[4.85722573273506e-17], [0.528882391124068], [0.103684933547673], [-0.00183443820109536*(-J - 0.0225*m)/(T*(0.00346203396643993*J + 0.0900778957642449*m))], [-0.0587712911385846/T]])\n",
      "Matrix([[-1.73472347597681e-18], [0.259987478589413], [0.0602536927269793], [-0.00126158833157744*(-J - 0.0225*m)/(T*(0.00483983038882797*J + 0.0901088961837486*m))], [-0.0694569804365091/T]])\n",
      "Matrix([[-4.16333634234434e-17], [0.805614961881424], [0.215502037377774], [-0.00521469412194057*(-J - 0.0225*m)/(T*(0.00645044992488062*J + 0.0901451351233098*m))], [-0.0801426697344335/T]])\n",
      "Matrix([[3.46944695195361e-18], [0.173993910325048], [0.0527692573784163], [-0.00144981130168823*(-J - 0.0225*m)/(T*(0.00829537653082066*J + 0.0901866459719435*m))], [-0.090828359032358/T]])\n",
      "Matrix([[-2.60208521396521e-18], [0.0855373381688743], [0.0290063758734495], [-0.000892532480123368*(-J - 0.0225*m)/(T*(0.010376314412795*J + 0.0902334670742879*m))], [-0.101514048330282/T]])\n",
      "Matrix([[-3.46944695195361e-17], [0.622895506964949], [0.233574527867806], [-0.00796191109004511*(-J - 0.0225*m)/(T*(0.012695191385734*J + 0.090285641806179*m))], [-0.112199737628207/T]])\n",
      "Matrix([[-1.73472347597681e-17], [0.271631570563802], [0.111616050762646], [-0.004177563579721*(-J - 0.0225*m)/(T*(0.0152541626878003*J + 0.0903432186604755*m))], [-0.122885426926131/T]])\n",
      "Matrix([[5.55111512312578e-17], [0.868530313158354], [0.388143122917721], [-0.015834239496995*(-J - 0.0225*m)/(T*(0.0180556152634483*J + 0.0904062513434276*m))], [-0.133571116224056/T]])\n",
      "Matrix([[3.46944695195361e-18], [0.196911850381403], [0.0950980528594281], [-0.00420240970277611*(-J - 0.0225*m)/(T*(0.0211021725297933*J + 0.0904747988819204*m))], [-0.14425680552198/T]])\n",
      "Matrix([[6.93889390390723e-17], [0.767252459666298], [0.398255862900427], [-0.0189636594570839*(-J - 0.0225*m)/(T*(0.0243966996427473*J + 0.0905489257419618*m))], [-0.154942494819905/T]])\n",
      "Matrix([[-3.46944695195361e-18], [0.243268882478864], [0.135078064115420], [-0.00689936410191491*(-J - 0.0225*m)/(T*(0.0279423092812224*J + 0.0906287019588275*m))], [-0.165628184117829/T]])\n",
      "Matrix([[-4.16333634234434e-17], [0.865199838879483], [0.511797836290418], [-0.0279304190552914*(-J - 0.0225*m)/(T*(0.0317423679696445*J + 0.090714203279317*m))], [-0.176313873415754/T]])\n",
      "Matrix([[1.04083408558608e-17], [0.209835494038114], [0.131755092933173], [-0.0076560608215126*(-J - 0.0225*m)/(T*(0.0358005029610734*J + 0.0908055113166241*m))], [-0.186999562713678/T]])\n",
      "Matrix([[-2.77555756156289e-17], [0.924002427712839], [0.613858749330614], [-0.0378658471530677*(-J - 0.0225*m)/(T*(0.0401206097053963*J + 0.0909027137183714*m))], [-0.197685252011603/T]])\n",
      "Matrix([[8.67361737988404e-18], [0.108360384547174], [0.0759491357845877], [-0.00495993164425*(-J - 0.0225*m)/(T*(0.0447068599293709*J + 0.0910059043484108*m))], [-0.208370941309527/T]])\n",
      "Matrix([[-2.77555756156289e-17], [0.954476633491607], [0.703966234833832], [-0.0485554846435416*(-J - 0.0225*m)/(T*(0.0495637103577508*J + 0.0911151834830494*m))], [-0.219056630607452/T]])\n",
      "Matrix([[-1.38777878078145e-17], [0.460145909960744], [0.356289149912341], [-0.025899543932459*(-J - 0.0225*m)/(T*(0.0546959121073446*J + 0.0912306580224152*m))], [-0.229742319905376/T]])\n",
      "Matrix([[-1.73472347597681e-18], [0.117393422711734], [0.0952251587560275], [-0.00728129028833218*(-J - 0.0225*m)/(T*(0.0601085207886637*J + 0.0913524417177449*m))], [-0.2404280092033/T]])\n",
      "Matrix([[2.77555756156289e-17], [0.289365278300054], [0.245424279490164], [-0.0197055115931108*(-J - 0.0225*m)/(T*(0.0658069073528121*J + 0.0914806554154383*m))], [-0.251113698501225/T]])\n",
      "Matrix([[1.38777878078145e-17], [0.180997770571764], [0.160229092211242], [-0.0134878801210669*(-J - 0.0225*m)/(T*(0.0717967697244908*J + 0.091615427318801*m))], [-0.261799387799149/T]])\n"
     ]
    }
   ],
   "source": [
    "for a, b, c in zip(x1, x2, xgdot):\n",
    "    nonLinearEval = nonLinearVector.subs([(xG, 5), (yG, 3), (phi, a), \n",
    "                                            (dxVehicle, c), (psi, b), \n",
    "                                            (torqueControlInput, 0), \n",
    "                                            (steerControlInput, 0), (lengthTotal, 0.3), (lengthRearToMid, 0.3/2)])\n",
    "    print(nonLinearEval)"
   ]
  },
  {
   "cell_type": "code",
   "execution_count": 31,
   "metadata": {},
   "outputs": [
    {
     "name": "stdout",
     "output_type": "stream",
     "text": [
      "Matrix([[-0.00288675134594813], [0.0100000000000000], [0.0192450089729875], [-0.00403066525385382*(-J - 0.0225*m)/(T*(0.333333333333333*J + 0.0975*m))], [-0.523598775598299/T]])\n"
     ]
    }
   ],
   "source": [
    "# this is a point in the state-space where the functions all go to 0\n",
    "nonLinearEvalAtPoint = nonLinearVector.subs([(xG, 5), (yG, 3), (phi, np.pi/2), \n",
    "                                            (dxVehicle, 0.01), (psi, np.pi/6), \n",
    "                                            (torqueControlInput, 0), \n",
    "                                            (steerControlInput, 0), (lengthTotal, 0.3), (lengthRearToMid, 0.3/2)])\n",
    "print(nonLinearEvalAtPoint)"
   ]
  }
 ],
 "metadata": {
  "kernelspec": {
   "display_name": "symbolic",
   "language": "python",
   "name": "python3"
  },
  "language_info": {
   "codemirror_mode": {
    "name": "ipython",
    "version": 3
   },
   "file_extension": ".py",
   "mimetype": "text/x-python",
   "name": "python",
   "nbconvert_exporter": "python",
   "pygments_lexer": "ipython3",
   "version": "3.8.10"
  }
 },
 "nbformat": 4,
 "nbformat_minor": 2
}
