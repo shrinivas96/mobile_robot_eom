{
 "cells": [
  {
   "cell_type": "code",
   "execution_count": 9,
   "metadata": {},
   "outputs": [],
   "source": [
    "import numpy as np\n",
    "import sympy as sp\n",
    "from sympy.calculus.util import *\n",
    "from sympy.interactive.printing import init_printing\n",
    "init_printing(use_unicode=False, wrap_line=False)\n",
    "from sympy.matrices import Matrix, eye, zeros, ones, diag, GramSchmidt"
   ]
  },
  {
   "cell_type": "code",
   "execution_count": 2,
   "metadata": {},
   "outputs": [],
   "source": [
    "# b, D, T, m, r, K, J = sp.symbols('b D T m r K J')\n",
    "b = 0.1\n",
    "D = 2*b\n",
    "T = 0.1\n",
    "m = 0.5\n",
    "r = 0.05\n",
    "K = 1\n",
    "J = 0.05\n",
    "\n",
    "mb2_J = (m * b**2) + J\n",
    "mD2 = m * D**2"
   ]
  },
  {
   "cell_type": "code",
   "execution_count": 3,
   "metadata": {},
   "outputs": [],
   "source": [
    "x_G, y_G, phi, v_xg, psi = sp.symbols('x_G y_G phi v_xg psi')\n",
    "state_space = Matrix([x_G, y_G, phi, v_xg, psi])\n",
    "tau_d, u_s = sp.symbols('tau_d u_s')\n",
    "control = Matrix([tau_d, u_s])\n",
    "\n",
    "gamma = ((sp.cos(psi))**2) * (mD2 + (mb2_J * (sp.tan(psi)**2)))"
   ]
  },
  {
   "cell_type": "code",
   "execution_count": 4,
   "metadata": {},
   "outputs": [],
   "source": [
    "f1 = (sp.cos(phi) - ((b * sp.tan(psi) / D) * sp.sin(phi))) * v_xg\n",
    "f2 = (sp.sin(phi) + ((b * sp.tan(psi) / D) * sp.cos(phi))) * v_xg\n",
    "f3 = (1/D) * sp.tan(psi) * v_xg\n",
    "f4 = ((v_xg * mb2_J * sp.tan(psi)) * ((-psi + K*u_s) / T) + (D**2 * sp.cos(psi)**2 * tau_d / r)) / (gamma)\n",
    "f5 = (-psi + K*u_s) / T\n",
    "\n",
    "non_linear_functions = Matrix([f1, f2, f3, f4, f5])"
   ]
  },
  {
   "cell_type": "code",
   "execution_count": 13,
   "metadata": {},
   "outputs": [
    {
     "data": {
      "text/plain": [
       "sympy.core.symbol.Symbol"
      ]
     },
     "execution_count": 13,
     "metadata": {},
     "output_type": "execute_result"
    }
   ],
   "source": [
    "type(x_G)"
   ]
  },
  {
   "cell_type": "code",
   "execution_count": 12,
   "metadata": {},
   "outputs": [
    {
     "name": "stdout",
     "output_type": "stream",
     "text": [
      "-0.5*v_xg*sin(phi)*tan(psi) + v_xg*cos(phi)\n"
     ]
    }
   ],
   "source": [
    "ivl = Interval(-2, 2)\n",
    "print(minimum(f1, x_G, ivl))"
   ]
  },
  {
   "cell_type": "code",
   "execution_count": 8,
   "metadata": {},
   "outputs": [
    {
     "data": {
      "text/latex": [
       "$\\displaystyle \\left[\\begin{matrix}0\\\\0\\\\0\\\\0\\\\100.0\\end{matrix}\\right]$"
      ],
      "text/plain": [
       "[  0  ]\n",
       "[     ]\n",
       "[  0  ]\n",
       "[     ]\n",
       "[  0  ]\n",
       "[     ]\n",
       "[  0  ]\n",
       "[     ]\n",
       "[100.0]"
      ]
     },
     "execution_count": 8,
     "metadata": {},
     "output_type": "execute_result"
    }
   ],
   "source": [
    "non_linear_functions.subs([(x_G, 0), (y_G, 0), (phi, 0), (v_xg, 0), (psi, 0), (tau_d, 0), (u_s, 0)])"
   ]
  },
  {
   "cell_type": "code",
   "execution_count": 5,
   "metadata": {},
   "outputs": [],
   "source": [
    "A_matrix = non_linear_functions.jacobian(state_space)\n",
    "B_matrix = non_linear_functions.jacobian(control)"
   ]
  },
  {
   "cell_type": "code",
   "execution_count": 6,
   "metadata": {},
   "outputs": [
    {
     "data": {
      "text/latex": [
       "$\\displaystyle \\left[\\begin{matrix}0 & 0 & v_{xg} \\left(- \\sin{\\left(\\phi \\right)} - 0.5 \\cos{\\left(\\phi \\right)} \\tan{\\left(\\psi \\right)}\\right) & - 0.5 \\sin{\\left(\\phi \\right)} \\tan{\\left(\\psi \\right)} + \\cos{\\left(\\phi \\right)} & - 0.5 v_{xg} \\left(\\tan^{2}{\\left(\\psi \\right)} + 1\\right) \\sin{\\left(\\phi \\right)}\\\\0 & 0 & v_{xg} \\left(- 0.5 \\sin{\\left(\\phi \\right)} \\tan{\\left(\\psi \\right)} + \\cos{\\left(\\phi \\right)}\\right) & \\sin{\\left(\\phi \\right)} + 0.5 \\cos{\\left(\\phi \\right)} \\tan{\\left(\\psi \\right)} & 0.5 v_{xg} \\left(\\tan^{2}{\\left(\\psi \\right)} + 1\\right) \\cos{\\left(\\phi \\right)}\\\\0 & 0 & 0 & 5.0 \\tan{\\left(\\psi \\right)} & 5.0 v_{xg} \\left(\\tan^{2}{\\left(\\psi \\right)} + 1\\right)\\\\0 & 0 & 0 & \\frac{0.055 \\left(- 10.0 \\psi + 10.0 u_{s}\\right) \\tan{\\left(\\psi \\right)}}{\\left(0.055 \\tan^{2}{\\left(\\psi \\right)} + 0.02\\right) \\cos^{2}{\\left(\\psi \\right)}} & - \\frac{18.1818181818182 \\cdot \\left(0.8 \\tau_{d} \\cos^{2}{\\left(\\psi \\right)} + 0.055 v_{xg} \\left(- 10.0 \\psi + 10.0 u_{s}\\right) \\tan{\\left(\\psi \\right)}\\right) \\left(2 \\tan^{2}{\\left(\\psi \\right)} + 2\\right) \\tan{\\left(\\psi \\right)}}{\\left(\\tan^{2}{\\left(\\psi \\right)} + 0.363636363636364\\right)^{2} \\cos^{2}{\\left(\\psi \\right)}} + \\frac{2 \\cdot \\left(0.8 \\tau_{d} \\cos^{2}{\\left(\\psi \\right)} + 0.055 v_{xg} \\left(- 10.0 \\psi + 10.0 u_{s}\\right) \\tan{\\left(\\psi \\right)}\\right) \\sin{\\left(\\psi \\right)}}{\\left(0.055 \\tan^{2}{\\left(\\psi \\right)} + 0.02\\right) \\cos^{3}{\\left(\\psi \\right)}} + \\frac{- 1.6 \\tau_{d} \\sin{\\left(\\psi \\right)} \\cos{\\left(\\psi \\right)} + 0.055 v_{xg} \\left(- 10.0 \\psi + 10.0 u_{s}\\right) \\left(\\tan^{2}{\\left(\\psi \\right)} + 1\\right) - 0.55 v_{xg} \\tan{\\left(\\psi \\right)}}{\\left(0.055 \\tan^{2}{\\left(\\psi \\right)} + 0.02\\right) \\cos^{2}{\\left(\\psi \\right)}}\\\\0 & 0 & 0 & 0 & -10.0\\end{matrix}\\right]$"
      ],
      "text/plain": [
       "[                                                                                                                                                                                                                                    /   2         \\                                                                                                                                            ]\n",
       "[0  0  v_xg*(-sin(phi) - 0.5*cos(phi)*tan(psi))    -0.5*sin(phi)*tan(psi) + cos(phi)                                                                                                                                       -0.5*v_xg*\\tan (psi) + 1/*sin(phi)                                                                                                                                   ]\n",
       "[                                                                                                                                                                                                                                                                                                                                                                                               ]\n",
       "[                                                                                                                                                                                                                                   /   2         \\                                                                                                                                             ]\n",
       "[0  0  v_xg*(-0.5*sin(phi)*tan(psi) + cos(phi))    sin(phi) + 0.5*cos(phi)*tan(psi)                                                                                                                                        0.5*v_xg*\\tan (psi) + 1/*cos(phi)                                                                                                                                    ]\n",
       "[                                                                                                                                                                                                                                                                                                                                                                                               ]\n",
       "[                                                                                                                                                                                                                                        /   2         \\                                                                                                                                        ]\n",
       "[0  0                     0                                  5.0*tan(psi)                                                                                                                                                       5.0*v_xg*\\tan (psi) + 1/                                                                                                                                        ]\n",
       "[                                                                                                                                                                                                                                                                                                                                                                                               ]\n",
       "[                                                                                                          /             2                                                  \\ /     2         \\              /             2                                                  \\                                                                             /   2         \\                     ]\n",
       "[                                                0.055*(-10.0*psi + 10.0*u_s)*tan(psi)    18.1818181818182*\\0.8*tau_d*cos (psi) + 0.055*v_xg*(-10.0*psi + 10.0*u_s)*tan(psi)/*\\2*tan (psi) + 2/*tan(psi)   2*\\0.8*tau_d*cos (psi) + 0.055*v_xg*(-10.0*psi + 10.0*u_s)*tan(psi)/*sin(psi)   -1.6*tau_d*sin(psi)*cos(psi) + 0.055*v_xg*(-10.0*psi + 10.0*u_s)*\\tan (psi) + 1/ - 0.55*v_xg*tan(psi)]\n",
       "[0  0                     0                      -------------------------------------  - -------------------------------------------------------------------------------------------------------------- + ----------------------------------------------------------------------------- + -----------------------------------------------------------------------------------------------------]\n",
       "[                                                  /         2            \\    2                                                                           2                                                                     /         2            \\    3                                                               /         2            \\    2                                      ]\n",
       "[                                                  \\0.055*tan (psi) + 0.02/*cos (psi)                                       /   2                         \\     2                                                                \\0.055*tan (psi) + 0.02/*cos (psi)                                                          \\0.055*tan (psi) + 0.02/*cos (psi)                                 ]\n",
       "[                                                                                                                           \\tan (psi) + 0.363636363636364/ *cos (psi)                                                                                                                                                                                                                          ]\n",
       "[                                                                                                                                                                                                                                                                                                                                                                                               ]\n",
       "[0  0                     0                                        0                                                                                                                                                                     -10.0                                                                                                                                                  ]"
      ]
     },
     "execution_count": 6,
     "metadata": {},
     "output_type": "execute_result"
    }
   ],
   "source": [
    "A_matrix"
   ]
  },
  {
   "cell_type": "code",
   "execution_count": 7,
   "metadata": {},
   "outputs": [
    {
     "data": {
      "text/latex": [
       "$\\displaystyle \\left[\\begin{matrix}0 & 0\\\\0 & 0\\\\0 & 0\\\\\\frac{0.8}{0.055 \\tan^{2}{\\left(\\psi \\right)} + 0.02} & \\frac{0.55 v_{xg} \\tan{\\left(\\psi \\right)}}{\\left(0.055 \\tan^{2}{\\left(\\psi \\right)} + 0.02\\right) \\cos^{2}{\\left(\\psi \\right)}}\\\\0 & 10.0\\end{matrix}\\right]$"
      ],
      "text/plain": [
       "[          0                             0                 ]\n",
       "[                                                          ]\n",
       "[          0                             0                 ]\n",
       "[                                                          ]\n",
       "[          0                             0                 ]\n",
       "[                                                          ]\n",
       "[         0.8                    0.55*v_xg*tan(psi)        ]\n",
       "[----------------------  ----------------------------------]\n",
       "[         2              /         2            \\    2     ]\n",
       "[0.055*tan (psi) + 0.02  \\0.055*tan (psi) + 0.02/*cos (psi)]\n",
       "[                                                          ]\n",
       "[          0                            10.0               ]"
      ]
     },
     "execution_count": 7,
     "metadata": {},
     "output_type": "execute_result"
    }
   ],
   "source": [
    "B_matrix"
   ]
  },
  {
   "cell_type": "code",
   "execution_count": 9,
   "metadata": {},
   "outputs": [
    {
     "data": {
      "text/latex": [
       "$\\displaystyle \\left[\\begin{matrix}0 & 0 & 0 & 1 & 0\\\\0 & 0 & 0 & 0 & 0\\\\0 & 0 & 0 & 0 & 0\\\\0 & 0 & 0 & 0 & 0\\\\0 & 0 & 0 & 0 & -10.0\\end{matrix}\\right]$"
      ],
      "text/plain": [
       "[0  0  0  1    0  ]\n",
       "[                 ]\n",
       "[0  0  0  0    0  ]\n",
       "[                 ]\n",
       "[0  0  0  0    0  ]\n",
       "[                 ]\n",
       "[0  0  0  0    0  ]\n",
       "[                 ]\n",
       "[0  0  0  0  -10.0]"
      ]
     },
     "execution_count": 9,
     "metadata": {},
     "output_type": "execute_result"
    }
   ],
   "source": [
    "A_matrix.subs([(x_G, 0), (y_G, 0), (phi, 0), (v_xg, 0), (psi, 0), (tau_d, 0), (u_s, 0)])"
   ]
  },
  {
   "cell_type": "code",
   "execution_count": 10,
   "metadata": {},
   "outputs": [
    {
     "data": {
      "text/latex": [
       "$\\displaystyle \\left[\\begin{matrix}0 & 0\\\\0 & 0\\\\0 & 0\\\\40.0 & 0\\\\0 & 10.0\\end{matrix}\\right]$"
      ],
      "text/plain": [
       "[ 0     0  ]\n",
       "[          ]\n",
       "[ 0     0  ]\n",
       "[          ]\n",
       "[ 0     0  ]\n",
       "[          ]\n",
       "[40.0   0  ]\n",
       "[          ]\n",
       "[ 0    10.0]"
      ]
     },
     "execution_count": 10,
     "metadata": {},
     "output_type": "execute_result"
    }
   ],
   "source": [
    "B_matrix.subs([(x_G, 0), (y_G, 0), (phi, 0), (v_xg, 0), (psi, 0), (tau_d, 0), (u_s, 0)])"
   ]
  }
 ],
 "metadata": {
  "kernelspec": {
   "display_name": "symp",
   "language": "python",
   "name": "python3"
  },
  "language_info": {
   "codemirror_mode": {
    "name": "ipython",
    "version": 3
   },
   "file_extension": ".py",
   "mimetype": "text/x-python",
   "name": "python",
   "nbconvert_exporter": "python",
   "pygments_lexer": "ipython3",
   "version": "3.8.10"
  },
  "orig_nbformat": 4
 },
 "nbformat": 4,
 "nbformat_minor": 2
}
